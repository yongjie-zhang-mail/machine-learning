{
 "cells": [
  {
   "cell_type": "markdown",
   "id": "435d8ba0-b2ad-4f79-8d7b-370c0b88010a",
   "metadata": {
    "editable": true,
    "id": "435d8ba0-b2ad-4f79-8d7b-370c0b88010a",
    "slideshow": {
     "slide_type": ""
    },
    "tags": []
   },
   "source": [
    "<center><a href=\"https://www.nvidia.cn/training/\"><img src=\"https://dli-lms.s3.amazonaws.com/assets/general/DLI_Header_White.png\" width=\"400\" height=\"186\" /></a></center>"
   ]
  },
  {
   "cell_type": "markdown",
   "id": "REpUhcdU-Qo0",
   "metadata": {
    "id": "REpUhcdU-Qo0"
   },
   "source": [
    "<br>\n",
    "\n",
    "# <font color=\"#76b900\">**Notebook 1:** 课程环境</font>\n",
    "\n",
    "<br>\n",
    "\n",
    "本单元我们将介绍课程环境，您将了解到一些设置需求、工作流程和注意事项。\n",
    "\n",
    "**注意：**本 notebook 虽然可通过 **Google Colab** 访问，但需要 **DLI 课程环境** 来保证所有单元都能正确的运行。但由于本节中没有什么动手的环节，主要是了解背后的运行机制，所以仅阅读就足够了，因此我们保留了代码单元的输出结果。\n",
    "\n",
    "**建议：**熟悉一下课程环境是有好处的，当然您也可以之后再深入了解。**另外，我们建议您在不使用课程环境的时候关掉环境！**\n",
    "\n",
    "<br>\n",
    "\n",
    "### **学习目标：**\n",
    "\n",
    "* 通过课程环境的创建及组织方式，了解课程环境。\n",
    "* 了解如何通过 Jupyter Labs 接口与运行中的微服务网络端口进行交互。\n",
    "\n",
    "<br>\n",
    "\n",
    "### **思考问题：**\n",
    "\n",
    "1. 您期望本课程的环境提供哪些类型的资源，它跟您的本地计算环境会有何不同？\n",
    "2. 如果一个微服务是在另一个主机环境（可公开访问或访问受限）上运行的，情况会有什么不同？\n",
    "\t* **紧接着的问题是**：想要像访问本地服务一样访问远程服务会有多困难？以及这样做是否会产生一些无法避免的问题？\n",
    "3. 哪些微服务需要为每个用户启动一个，哪些更适合持续运行？\n",
    "\n",
    "<br>  \n",
    "\n",
    "### **Notebook 版权声明：**\n",
    "\n",
    "* 本 notebook 是 [**NVIDIA 深度学习培训中心**](https://www.nvidia.cn/training/)的课程[**《构建大语言模型 RAG 智能体》**](https://www.nvidia.cn/training/instructor-led-workshops/building-rag-agents-with-llms/)中的一部分，未经 NVIDIA 授权不得分发。"
   ]
  },
  {
   "cell_type": "markdown",
   "id": "60bac59f-c4ec-450e-a267-766bc09d02ae",
   "metadata": {
    "id": "60bac59f-c4ec-450e-a267-766bc09d02ae"
   },
   "source": [
    "<br>  \n",
    "\n",
    "## **欢迎来到您的云端环境**\n",
    "\n",
    "这是一个承载课程内容的 Jupyter Labs 环境。在大多数课程中，此环境将由一个统一的接口提供，必要的组件已经在背后配置好了。为激励您进一步探索，本课程还将带您初步了解微服务编排（microservices orchestration），尤其是围绕**大语言模型（LLM）**构建的应用。我们先来探索这个云端服务的关键组件。"
   ]
  },
  {
   "cell_type": "markdown",
   "id": "k7E6HHSHpFiZ",
   "metadata": {
    "id": "k7E6HHSHpFiZ"
   },
   "source": [
    "> <img src=\"https://dli-lms.s3.amazonaws.com/assets/s-fx-15-v1/imgs/simple-env.png\" width=800px/>"
   ]
  },
  {
   "cell_type": "markdown",
   "id": "cc03e1bf-64cb-436e-9db1-4be537dab390",
   "metadata": {
    "id": "cc03e1bf-64cb-436e-9db1-4be537dab390"
   },
   "source": [
    "----\n",
    "\n",
    "<br>\n",
    "\n",
    "## **第 1 部分：** 托管容器\n",
    "\n",
    "当您访问此 Jupyter Notebook 时，NVIDIA 深度学习培训中心（DLI）会将 AWS 或 Azure 等云平台上的实例分配给您。该云实例就构成了您的基础云环境，包括：\n",
    "\n",
    "* 专用的 CPU，可能还有 GPU。\n",
    "* 预安装的操作系统。\n",
    "* 一些可以通过 web 地址访问的公开端口。\n",
    "\n",
    "虽然这为您提供了入门所需的所有资源，但默认情况下它基本只是个白板。如果需要，我们可以运行一些例行脚本下载一些资源，并获得完全访问环境的权限。但当其它进程需要在后台运行时，这就不太妙了。也许我们想启动一个数据库服务，加载一些大型文档，或者出于安全考虑而设置代理服务。"
   ]
  },
  {
   "cell_type": "markdown",
   "id": "dbc4ba1d-f20b-47f2-b37d-ce5247a25c3e",
   "metadata": {
    "id": "dbc4ba1d-f20b-47f2-b37d-ce5247a25c3e"
   },
   "source": [
    "为了将我们的基本设置变成一个能承载各种进程的开发空间，我们在背后部署了一系列微服务。[**微服务**](https://en.wikipedia.org/wiki/Microservices)（Microservices）是执行特定功能并能通过轻量级连接协议通信的自主（autonomous）服务。在您的环境中，Jupyter Labs 及其它服务都是以微服务的形式提供的。"
   ]
  },
  {
   "cell_type": "markdown",
   "id": "kq_sYaj68I8a",
   "metadata": {
    "id": "kq_sYaj68I8a"
   },
   "source": [
    "> <img src=\"https://dli-lms.s3.amazonaws.com/assets/s-fx-15-v1/imgs/docker-ms.png\" width=1000px/>"
   ]
  },
  {
   "cell_type": "markdown",
   "id": "aBsNWKXH8Ns0",
   "metadata": {
    "id": "aBsNWKXH8Ns0"
   },
   "source": [
    "我们用 [**Docker**](https://www.docker.com/) 来做微服务编排，使得添加的微服务能很容易的符合**容器化**（containerization）和**一致性**（uniformity）等原则：\n",
    "\n",
    "* **容器化：**此过程将每个服务封装在一个独立的容器中，其中包含了必要的组件：代码、运行时、库和系统工具。这些容器通过网络端口与主机通信。主要优势包括：\n",
    "\n",
    "\t+ **可移植性（Portability）：**能轻松地在不同环境中传输和部署。\n",
    "\t+ **隔离（Isolation）：**确保每个容器的独立操作，最大限度降低服务冲突。\n",
    "\t+ **可扩展性（Scalability）：**简化扩展服务以满足不同需求的过程，也包括更改*部署拓扑（deployment topology）*的过程（比如哪些服务依赖哪些资源运行、资源位于何处以及谁在访问这些资源）。\n",
    "* **一致性：**Docker 旨在保证微服务能在各种环境中稳定的运行。但需要留心一些限制：\n",
    "\t+ **硬件敏感性：**在不同的硬件环境中，服务的性能可能会有所不同，所以有必要根据情况调整微服务设计。\n",
    "\t+ **环境因素：**网络延迟或存储容量等变量也会影响容器的表现。\n",
    "\n",
    "如果您想更全面地了解 Docker 和微服务编排，我们推荐您访问 [Docker 官方文档](https://docs.docker.com/)。了解这些将会极大地帮助您在实际环境中部署应用。"
   ]
  },
  {
   "cell_type": "markdown",
   "id": "cfd88242-fe97-4bb7-b322-a3a4308a37b4",
   "metadata": {
    "id": "cfd88242-fe97-4bb7-b322-a3a4308a37b4"
   },
   "source": [
    "----\n",
    "\n",
    "<br>\n",
    "\n",
    "## **第 2 部分：** Jupyter Labs 微服务\n",
    "\n",
    "我们已经了解了常规的微服务，现在可以看一下您正在与之交互的这个微服务：**Jupyter Labs 微服务**。此交互式 Web 应用能您用远程主机上安装的软件来编写和运行 Python 代码！如果您用过 [Google Colab](https://colab.research.google.com/?utm_source=scs-index)，那应该对这种基于 web 的服务非常熟悉了。但您可能从未想过这种环境是怎么出现的，以及它背后发生了什么。既然我们今天讨论的是 LLM 应用的微服务编排，现在就来好好看一下！"
   ]
  },
  {
   "cell_type": "markdown",
   "id": "37b6b6b3-d43b-4b1e-ba99-4582984fc378",
   "metadata": {
    "id": "37b6b6b3-d43b-4b1e-ba99-4582984fc378"
   },
   "source": [
    "**问题：**为什么我们的课程环境中有 Jupyter Notebook？\n",
    "\n",
    "**答案：**在某个 docker-compose 文件中，[比如 `composer`](composer/docker-compose.yaml)，一个叫 `jupyter-notebook-server` 的容器已通过以下配置文件启动：\n",
    "\n",
    "```yaml\n",
    "  lab:\n",
    "    container_name: jupyter-notebook-server\n",
    "    build:\n",
    "      context: ..\n",
    "      dockerfile: composer/Dockerfile\n",
    "    ports: # Maps a port on the host to a port in the container.\n",
    "    - \"9010:9010\"\n",
    "    - \"9011:9011\"\n",
    "    - \"9012:9012\"\n",
    "```\n",
    "\n",
    "简单来说，这个组件创建了一个名为 `jupyter-notebook-server` 的容器的服务，它通过运行 [`composer/Dockerfile`](composer/Dockerfile) 头部的指定镜像来启动（您可能会注意到这是一个预装了 `python` 的 slim 镜像）。\n",
    "\n",
    "当完成此构建且启动未出错时，用户就可以访问 Jupyter Labs，并与界面交互了！"
   ]
  },
  {
   "cell_type": "markdown",
   "id": "f9eaced1-aae7-4681-a84b-79e045158d10",
   "metadata": {
    "id": "f9eaced1-aae7-4681-a84b-79e045158d10"
   },
   "source": [
    "----\n",
    "\n",
    "<br>\n",
    "\n",
    "## **第 3 部分：** 作为主机与微服务交互"
   ]
  },
  {
   "cell_type": "markdown",
   "id": "89757b19-470e-402e-9a93-860c7824e4ae",
   "metadata": {
    "id": "89757b19-470e-402e-9a93-860c7824e4ae"
   },
   "source": [
    "我们已经认识到自己正在与这个有 Jupyter 的微服务交互了。那么，还有什么？上面我们引用了 [`composer/docker-compose.yaml`](composer/docker-compose.yml)，接下来看看这个启动过程还创建了什么其它组件。这是由于我们在主机环境中（微服务外部）运行了如下命令："
   ]
  },
  {
   "cell_type": "markdown",
   "id": "5a4f801e-6633-4b31-bbdc-3dd234f8b78a",
   "metadata": {
    "id": "5a4f801e-6633-4b31-bbdc-3dd234f8b78a"
   },
   "source": [
    "```sh\n",
    "> docker compose up -d\n",
    "## Building may also happen here if that hasn't happened yet\n",
    "\n",
    "Starting docker_router                 ... done\n",
    "Starting llm_client                    ... done\n",
    "Starting s-fx-15-v1-task4_assessment_1 ... done\n",
    "Recreating jupyter-notebook-server     ... done\n",
    "Recreating frontend                    ... done\n",
    "Recreating s-fx-15-v1-task4_nginx_1    ... done\n",
    "Recreating modifier                    ... done\n",
    ">\n",
    "```"
   ]
  },
  {
   "cell_type": "markdown",
   "id": "10fd92be-0157-4137-8849-acd054e0ddcd",
   "metadata": {
    "id": "10fd92be-0157-4137-8849-acd054e0ddcd"
   },
   "source": [
    "### **在 Jupyter Labs 微服务外部进行交互**\n",
    "\n",
    "启动微服务后，我们可以通过这个简单的命令从主机环境检查其它微服务的状态：`docker ps -a`："
   ]
  },
  {
   "cell_type": "code",
   "execution_count": null,
   "id": "a5d65201-4fcb-418f-bf6f-1dcfd7968a7b",
   "metadata": {
    "id": "a5d65201-4fcb-418f-bf6f-1dcfd7968a7b"
   },
   "outputs": [],
   "source": [
    "'''\n",
    "> docker ps -a\n",
    "CONTAINER ID   IMAGE                            COMMAND                  CREATED          STATUS                   PORTS                                                                     NAMES\n",
    "7eff861362dc   s-fx-15-v1-task4_lab             \"jupyter lab --ip 0.…\"   14 minutes ago   Up 14 minutes            8888/tcp, 0.0.0.0:9010-9012->9010-9012/tcp, :::9010-9012->9010-9012/tcp   jupyter-notebook-server...\n",
    "(too much info)\n",
    "\n",
    "\n",
    ">  docker ps --format \"table {{.Names}}\\t{{.Image}}\\t{{.Ports}}\"\n",
    "NAMES                           IMAGE                            PORTS\n",
    "s-fx-15-v1-task4_nginx_1        nginx:1.15.12-alpine             0.0.0.0:80->80/tcp, :::80->80/tcp\n",
    "frontend                        s-fx-15-v1-task4_frontend        0.0.0.0:8090->8090/tcp, :::8090->8090/tcp\n",
    "jupyter-notebook-server         s-fx-15-v1-task4_lab             8888/tcp, 0.0.0.0:9010-9012->9010-9012/tcp, :::9010-9012->9010-9012/tcp\n",
    "llm_client                      s-fx-15-v1-task4_llm_client      0.0.0.0:9000->9000/tcp, :::9000->9000/tcp\n",
    "docker_router                   s-fx-15-v1-task4_docker_router   0.0.0.0:8070->8070/tcp, :::8070->8070/tcp\n",
    "s-fx-15-v1-task4_assessment_1   s-fx-15-v1-task4_assessment      0.0.0.0:81->8080/tcp, :::81->8080/tcp\n",
    "''';"
   ]
  },
  {
   "cell_type": "markdown",
   "id": "8e9b1cb5-7f2c-4c45-ac94-1c429e44e502",
   "metadata": {
    "id": "8e9b1cb5-7f2c-4c45-ac94-1c429e44e502"
   },
   "source": [
    "这个命令列出了正在运行的容器列表，并为我们从容器外与微服务交互提供了一个很好的起点。这时我们可以执行以下操作：\n",
    "\n",
    "* 通过 `scp`（安全复制协议）或 `docker cp` 这种例程将文件复制进/出容器。\n",
    "\t+ `docker cp jupyter-notebook-server:/dli/task/paint-cat.jpg .`\n",
    "* 在正在运行的容器中执行命令。\n",
    "\t+ `docker exec -it jupyter-notebook-server /bin/bash -c \"ls\"`\n",
    "* 查询容器的日志以观察其状态和执行过程。\n",
    "\t+ `docker logs jupyter-notebook-server`"
   ]
  },
  {
   "cell_type": "markdown",
   "id": "xeb5xYyC9Zo0",
   "metadata": {
    "id": "xeb5xYyC9Zo0"
   },
   "source": [
    "<br>\n",
    "\n",
    "### **在 Jupyter Labs 微服务*内部*交互**\n",
    "\n",
    "从容器内部，只能通过公开访问的端口和提供的资源与其它容器交互。运行下方代码就能看到，此 Jupyter Labs notebook 甚至没有安装 Docker，更不用说访问主机的 Docker 实例了："
   ]
  },
  {
   "cell_type": "code",
   "execution_count": null,
   "id": "e67c2a0c-1f14-4c1f-91b2-6f0978ae6a1f",
   "metadata": {
    "id": "e67c2a0c-1f14-4c1f-91b2-6f0978ae6a1f"
   },
   "outputs": [],
   "source": [
    "## Should fail\n",
    "!docker ps -a"
   ]
  },
  {
   "cell_type": "markdown",
   "id": "b71c32c0-76a0-46ce-9d59-838212d7863e",
   "metadata": {
    "id": "b71c32c0-76a0-46ce-9d59-838212d7863e"
   },
   "source": [
    "出于安全的考虑，这通常非常有用，但给与其他微服务的交互制造了挑战。那我们在容器内部具体能做些什么呢？\n",
    "\n",
    "在主机环境中，我们可以通过类似于 `docker_router` 的服务打开一个连通外部环境的小窗口。用于创建服务的具体代码可在 [`docker_router/docker_router.py`](docker_router/docker_router.py) 和 [`docker_router/Dockerfile`](docker_router/Dockerfile) 中查看，从中您会发现 `help` 就是一个可以调用的命令。下面是一个通过 shell 进行网络查询的命令示例，它就能调用 `help` 例程："
   ]
  },
  {
   "cell_type": "code",
   "execution_count": null,
   "id": "227cc8b4-a4bc-454b-83a6-8f2b8a7bf10c",
   "metadata": {
    "id": "227cc8b4-a4bc-454b-83a6-8f2b8a7bf10c"
   },
   "outputs": [],
   "source": [
    "## Should fail in colab, will work in course environment\n",
    "!curl -v docker_router:8070/help"
   ]
  },
  {
   "cell_type": "markdown",
   "id": "a7304508-c0e5-47c6-8b7f-0c14dfbb0a55",
   "metadata": {
    "id": "a7304508-c0e5-47c6-8b7f-0c14dfbb0a55"
   },
   "source": [
    "`curl` 接口通常非常有用，但对于我们正在用的 Python 环境不够友好。幸运的是，Python 的 `requests` 库提供了更简单的工具，下面我们就用一个更 Pythonic 的接口来调用刚刚查询过的容器路径："
   ]
  },
  {
   "cell_type": "code",
   "execution_count": null,
   "id": "f621869f-68b5-4e09-abaa-132a17b907a8",
   "metadata": {
    "id": "f621869f-68b5-4e09-abaa-132a17b907a8"
   },
   "outputs": [],
   "source": [
    "## Should fail in colab, will work in course environment\n",
    "import requests\n",
    "\n",
    "## Curl request. Best for shell environments\n",
    "# !curl -v docker_router:8070/containers\n",
    "\n",
    "## Print all running containers\n",
    "# requests.get(\"http://docker_router:8070/containers\").json()\n",
    "\n",
    "## Print the running microservices\n",
    "for entry in requests.get(\"http://docker_router:8070/containers\").json():\n",
    "    if entry.get(\"status\") == 'running':\n",
    "        print(entry.get(\"name\"))"
   ]
  },
  {
   "cell_type": "markdown",
   "id": "2b13ef3c-08d3-4594-8643-e3fb972a224e",
   "metadata": {
    "id": "2b13ef3c-08d3-4594-8643-e3fb972a224e"
   },
   "source": [
    "由此，我们至少可以了解正在运行的其它微服务，可以猜猜它们各自都是做什么的：\n",
    "\n",
    "* **docker_router**：我们为查找此信息而与之交互的服务。\n",
    "* **jupyter-notebook-server**：我们讨论过的正运行着此 Jupyter 会话的服务。\n",
    "* **frontend**：可能是某种 Web 界面\n",
    "* **llm_client**：可能是某种 llm 服务？\n",
    "* **s-fx-<...>**：某些后台服务（数据加载器、代理服务、评估管理器），我们不会讨论这些服务。"
   ]
  },
  {
   "cell_type": "markdown",
   "id": "a1766852-8dff-4d85-bdf0-a3bf74f9136a",
   "metadata": {},
   "source": [
    "> <img src=\"http://dli-lms.s3.amazonaws.com/assets/s-fx-15-v1/imgs/environment.png\" width=800px/>"
   ]
  },
  {
   "cell_type": "markdown",
   "id": "qmzY5HQUpuLM",
   "metadata": {
    "id": "qmzY5HQUpuLM"
   },
   "source": [
    "除了最后几个组件，组件详细信息都可以在 [`composer`](composer) 目录中找到。"
   ]
  },
  {
   "cell_type": "markdown",
   "id": "05bc6b5d-e055-4b0b-86d4-0003f73a615d",
   "metadata": {
    "id": "05bc6b5d-e055-4b0b-86d4-0003f73a615d"
   },
   "source": [
    "----\n",
    "\n",
    "<br>\n",
    "\n",
    "## **第 4 部分：** 看看 Frontend\n",
    "\n",
    "本 notebook 旨在提供一个环境，供您一探微服务构建过程的细节。您会在整个课程中与其中一些微服务进行交互，先了解一下它们的构建方式会有所帮助！\n",
    "\n",
    "我们现在可以再看一个主要的微服务：**frontend**。这个微服务将托管最终评估需要的界面。请运行以下 curl 命令以确认您的 frontend 服务能正常启动和运行！"
   ]
  },
  {
   "cell_type": "code",
   "execution_count": null,
   "id": "5609e1fd-5648-491d-af82-b678d2702bad",
   "metadata": {},
   "outputs": [],
   "source": [
    "## Commented out by default since it will yield a lot of output\n",
    "# !curl -v frontend:8090"
   ]
  },
  {
   "cell_type": "markdown",
   "id": "4149145c-e183-4fc7-8d9e-4c672d3cf2d5",
   "metadata": {},
   "source": [
    "这个命令应该返回 `200 OK` 响应以及网页代码（即以 `<!doctype html>` 开头的一段响应），可以用来检查服务状态，但对用户并不友好。要想访问网页：\n",
    "- **原端口访问（默认）**，您需要在浏览器中将 URL 改成非默认的端口 `8090`，即 `http://<...>.courses.nvidia.com:8090`。这样确实可以访问，但这种裸露的接口会遇到一些限制，比如可能被端口保护机制限制访问、与默认服务器配置相比不完整导致功能欠缺、暴露原始接口导致安全问题。\n",
    "- **反向代理（Reverse-Proxy Access）**，用一个不同的接口来反向代理到 `http://<...>.courses.nvidia.com:8090`（这里我们用 `8091`）。反向代理的好处就是可以向用户隐藏原始接口、不暴露后端服务以增强安全性。它还简化了 URL 结构，让用户不需要记住具体的端口号就能访问服务。另外，通过反向代理可以更好的处理负载均衡和管理 SSL 认证，提供了更丝滑和安全的用户体验。具体实现超出了本课程的讨论范围，您可以随时查看 [**`composer/nginx.conf`**](composer/nginx.conf) 和 [**`frontend/frontend_server_rproxy.py`**](frontend/frontend_server_rproxy.py) 来详细了解。\n",
    "\n",
    "**您可以直接运行下面的单元来生成链接：**"
   ]
  },
  {
   "cell_type": "code",
   "execution_count": null,
   "id": "51ffc2aa-7973-411b-9211-c07af4638771",
   "metadata": {},
   "outputs": [],
   "source": [
    "%%js\n",
    "var url = 'http://'+window.location.host+':8090';\n",
    "element.innerHTML = '<a style=\"color:green;\" target=\"_blank\" href='+url+'><h1>< Link To Gradio Frontend ></h1></a>';"
   ]
  },
  {
   "cell_type": "markdown",
   "id": "996763bc-6223-48d4-b3d9-5a1c264b81b7",
   "metadata": {},
   "source": [
    "***在尝试之前，请注意 frontend 微服务暂时还无法正常工作。整个课程中您会逐渐为其添加功能，因此请确保您始终在课程环境中。***"
   ]
  },
  {
   "cell_type": "markdown",
   "id": "0556556c-b488-49ef-bd26-5dc0006597cc",
   "metadata": {
    "id": "0556556c-b488-49ef-bd26-5dc0006597cc"
   },
   "source": [
    "-----\n",
    "\n",
    "<br>\n",
    "\n",
    "## **第 5 部分：** 总结\n",
    "\n",
    "在验证服务运行状况后，您就算完成了第一个 notebook！\n",
    "\n",
    "### <font color=\"#76b900\">**做得很好！**</font>\n",
    "\n",
    "### 接下来：\n",
    "1. **[可选]** 查看 `composer` 的部署策略，也就是整个微服务编排。\n",
    "2. **[可选]** 查看 docker-router 微服务，了解开放路由是如何指定的。\n",
    "3. **[可选]** 回顾 notebook 顶部的“思考问题”。"
   ]
  }
 ],
 "metadata": {
  "colab": {
   "provenance": []
  },
  "kernelspec": {
   "display_name": "Python 3 (ipykernel)",
   "language": "python",
   "name": "python3"
  },
  "language_info": {
   "codemirror_mode": {
    "name": "ipython",
    "version": 3
   },
   "file_extension": ".py",
   "mimetype": "text/x-python",
   "name": "python",
   "nbconvert_exporter": "python",
   "pygments_lexer": "ipython3",
   "version": "3.11.8"
  }
 },
 "nbformat": 4,
 "nbformat_minor": 5
}
