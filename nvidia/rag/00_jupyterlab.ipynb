{
 "cells": [
  {
   "cell_type": "markdown",
   "metadata": {
    "id": "uv-NTNJ_bFDM"
   },
   "source": [
    "<center><a href=\"https://www.nvidia.cn/training/\"><img src=\"https://dli-lms.s3.amazonaws.com/assets/general/DLI_Header_White.png\" width=\"400\" height=\"186\" /></a></center>"
   ]
  },
  {
   "cell_type": "markdown",
   "metadata": {
    "id": "a3qdHasbbFDU"
   },
   "source": [
    "<br>\n",
    "\n",
    "# <font color=\"#76b900\">**Notebook 0:** JupyterLab</font>\n",
    "\n",
    "<br>\n",
    "\n",
    "我们使用 [JupyterLab](https://jupyterlab.readthedocs.io/en/stable/) 来管理实践的环境。[JupyterLab 界面](https://jupyterlab.readthedocs.io/en/stable/user/interface.html)让我们能够访问交互式 iPython Notebook、环境中的文件夹以及 Ubuntu 操作系统的终端窗口。视图里包括顶部的**菜单栏**、**左侧边栏**的**文件浏览器**，以及默认打开的“Launcher”页面的**主工作区**。\n",
    "\n",
    "<br>\n",
    "<!-- <img src=\"https://drive.google.com/uc?export=view&id=1FJHrWRBc5s5zcZFb19sC-U64qNkf67Jt\"> -->\n",
    "<img src=\"https://dli-lms.s3.amazonaws.com/assets/s-fx-15-v1/imgs/jl_launcher.png\" width=1000px/>\n",
    "<br>\n",
    "  \n",
    "### **一些注意事项：**\n",
    "\n",
    "* 您可以像任何其它文件浏览器一样浏览文件。双击任意文件即可打开。\n",
    "* 打开的文件以选项卡的视图显示在主工作区，可以根据需要关闭、移动或编辑这些文件。\n",
    "* Notebook（包括本 notebook）中有一系列内容和代码**单元**。选中代码单元后按 `Shift+Enter` 或单击上方菜单栏中的“Run”（运行）按钮即可执行代码。有时，内容单元会切换到编辑模式，按 `Shift+Enter` 就能让它变回阅读模式。 \n",
    "\n",
    "**试试执行下方代码单元的 print 语句。**"
   ]
  },
  {
   "cell_type": "code",
   "execution_count": null,
   "metadata": {
    "id": "FapSM5sUbFDV"
   },
   "outputs": [],
   "source": [
    "# Highlight this cell and click [Shift+Enter] to execute\n",
    "print('This is just a simple print statement')"
   ]
  },
  {
   "cell_type": "markdown",
   "metadata": {
    "id": "o1YordFBjAy0"
   },
   "source": [
    "----\n",
    "\n",
    "<br>\n",
    "\n",
    "## **特殊语法**\n",
    "\n",
    "本课程会用一些中级 Python 语法，有一些需要澄清的隐含假设。随着课程的推进我们会澄清大部分内容，不过先提前了解以下这几个组件会很有帮助：\n",
    "\n",
    "**输入、密码和秘密**：\n",
    "* 我们会用到 `input` 和 `getpass`，运行之后单元下方会弹出输入框。**如果在打开输入请求的同时尝试运行另一个单元，notebook 会停在输入单元，或者弹出错误提示让您先完成输入。**如果发生这种情况，请使用方形（$\\square$）按钮或完成输入来继续。可以看下这个例子："
   ]
  },
  {
   "cell_type": "code",
   "execution_count": null,
   "metadata": {
    "colab": {
     "base_uri": "https://localhost:8080/"
    },
    "executionInfo": {
     "elapsed": 7749,
     "status": "ok",
     "timestamp": 1702746049560,
     "user": {
      "displayName": "Vadim Kudlay",
      "userId": "00553664172613290122"
     },
     "user_tz": 360
    },
    "id": "wunSuseud2qf",
    "outputId": "92c63cd6-e342-499f-d566-18706d3fd35d"
   },
   "outputs": [],
   "source": [
    "from getpass import getpass\n",
    "from pydantic import SecretStr\n",
    "\n",
    "first_name = input(\"Enter your name: \")\n",
    "print(f\"Hello {first_name}\\n\")   ## F-strings. Commonly used to fill in variables\n",
    "\n",
    "secret = SecretStr(getpass(\"Please tell me a secret: \"))\n",
    "print(\"Your secret is:\", secret)  ## Another way to print multiple values. sep=\" \" is default\n",
    "# print(\"Your secret value is:\", secret.get_secret_value())"
   ]
  },
  {
   "cell_type": "markdown",
   "metadata": {
    "id": "1r1GI9bHd2Kj"
   },
   "source": [
    "**多行分组：**\n",
    "* Python 是一种对 Tab 和换行符敏感的语言，因此我们可以使用圆括号对某些组件进行分组。当您在把代码分为多行时，换行符将被解释为空格，如下所示："
   ]
  },
  {
   "cell_type": "code",
   "execution_count": null,
   "metadata": {
    "colab": {
     "base_uri": "https://localhost:8080/",
     "height": 103
    },
    "executionInfo": {
     "elapsed": 166,
     "status": "ok",
     "timestamp": 1702746239412,
     "user": {
      "displayName": "Vadim Kudlay",
      "userId": "00553664172613290122"
     },
     "user_tz": 360
    },
    "id": "JmikhG6ifIfN",
    "outputId": "201861d2-0dd8-40c2-9807-c20eb551ebfa"
   },
   "outputs": [],
   "source": [
    "################################################################################\n",
    "## Implicit string concatenation. Interpretted as `print( \"Hello\" \"World\" )`\n",
    "print(\n",
    "    \"Hello\" \"World\"\n",
    ")\n",
    "\n",
    "################################################################################\n",
    "## Implicit string concatenation. Interpretted as `print( \"5\" \" \" \"8\" )`\n",
    "print((\n",
    "    \"5\" \" \"\n",
    "    \"8\"\n",
    "))\n",
    "\n",
    "print(\n",
    "    5 +\n",
    "    6\n",
    ")\n",
    "\n",
    "################################################################################\n",
    "## The below line is considered bad syntax, and the cell will fail to evaluate\n",
    "# 5 +\n",
    "# 6\n",
    "\n",
    "################################################################################\n",
    "## The following forcefully tries to run contents of the following line:\n",
    "try:\n",
    "    eval(\"5 + \\n6\")\n",
    "except Exception as e:\n",
    "    print(e)\n",
    "\n",
    "################################################################################\n",
    "## Useful example, where lines can be commented out to remove functionality:\n",
    "(\n",
    "    f\"Hello {first_name}\"\n",
    "        .upper()\n",
    "        + '!!'\n",
    "        # '!!!'    ## Uncomment to add even more. Useful for organizing\n",
    "        ' It\\'s so nice to meet you!'\n",
    "\n",
    ")"
   ]
  },
  {
   "cell_type": "markdown",
   "metadata": {
    "id": "1CLJ-qrdqqEi"
   },
   "source": [
    "----\n",
    "\n",
    "<br>\n",
    "\n",
    "## **总结**\n",
    "\n",
    "铺垫了一点基础知识，现在我们可以开始学习课程了！接下来请打开 `01_microservices.ipynb` 来了解课程的环境设置！\n",
    "\n",
    "### \n",
    "### <font color=\"#76b900\">**祝您好运！**</font>"
   ]
  }
 ],
 "metadata": {
  "colab": {
   "provenance": []
  },
  "kernelspec": {
   "display_name": "Python 3 (ipykernel)",
   "language": "python",
   "name": "python3"
  },
  "language_info": {
   "codemirror_mode": {
    "name": "ipython",
    "version": 3
   },
   "file_extension": ".py",
   "mimetype": "text/x-python",
   "name": "python",
   "nbconvert_exporter": "python",
   "pygments_lexer": "ipython3",
   "version": "3.11.8"
  }
 },
 "nbformat": 4,
 "nbformat_minor": 4
}
