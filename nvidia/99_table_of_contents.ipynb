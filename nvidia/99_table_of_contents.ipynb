{
 "cells": [
  {
   "cell_type": "markdown",
   "id": "5d160e46",
   "metadata": {},
   "source": [
    "<center><a href=\"https://www.nvidia.cn/training/\"><img src=\"https://dli-lms.s3.amazonaws.com/assets/general/DLI_Header_White.png\" width=\"400\" height=\"186\" /></a></center>"
   ]
  },
  {
   "cell_type": "markdown",
   "id": "ba32eaa4",
   "metadata": {},
   "source": [
    "# <font color=\"#76b900\">**目录**</font>\n",
    "\n",
    "\n",
    "### **欢迎参加课程！** \n",
    "\n",
    "请浏览这些 notebooks，随意探索其它组件，看看有什么感兴趣的。\n",
    "\n",
    "#### **微服务：**\n",
    "- **`./chatbot`**: 一个基本的聊天机器人界面，允许访问多个模型。\n",
    "    - **基本:** 没有系统消息，仅提供 LLM 访问。***Notebook 6 之后就不再更新。***\n",
    "    - **上下文:** 在开始时加载指定 notebook 的上下文（上下文选项卡）。***在 Notebook 6 之后就不再更新。***\n",
    "    - **智能体:** 尝试从环境中加载 notebook 并进行推理。***Notebook 7.5 之后不再更新。***\n",
    "- **`./composer`**: 用于构建环境的启动例程。可以用于复制环境（高级用例）。\n",
    "- **`./docker-router`**: 一个辅助微服务（高级应用/助教辅助）。评估也需要。\n",
    "- **`./frontend`**: 一个课程特定的聊天窗口，将在整个课程中使用，***最终评估会用到。***\n",
    "- **`./llm_client`**: 启用对 [`build.nvidia.com`](build.nvidia.com) 的 API 访问，提供 NVIDIA NIM 端点。在 notebooks 6 及之后使用。\n",
    "\n",
    "#### **缓存**\n",
    "- **`./imgs`**: 课程中的图片（在 notebooks 中使用过的）。\n",
    "- **`./solutions`**: 练习参考答案。"
   ]
  },
  {
   "cell_type": "markdown",
   "id": "5339141b",
   "metadata": {},
   "source": [
    "<br>\n",
    "\n",
    "## 使用聊天机器人"
   ]
  },
  {
   "cell_type": "code",
   "execution_count": null,
   "id": "dc6b20c4",
   "metadata": {},
   "outputs": [],
   "source": [
    "%%js\n",
    "var url = 'http://'+window.location.host+':8999';\n",
    "element.innerHTML = '<a style=\"color:#76b900;\" target=\"_blank\" href='+url+'><h2>< Link To Gradio Chatbot ></h2></a>';"
   ]
  },
  {
   "cell_type": "markdown",
   "id": "20684851",
   "metadata": {},
   "source": [
    "<br>\n",
    "\n",
    "## 打开供练习的前端"
   ]
  },
  {
   "cell_type": "code",
   "execution_count": null,
   "id": "8919a196",
   "metadata": {},
   "outputs": [],
   "source": [
    "%%js\n",
    "var url = 'http://'+window.location.host+':8090';\n",
    "element.innerHTML = '<a style=\"color:#76b900;\" target=\"_blank\" href='+url+'><h2>< Link To Gradio Frontend ></h2></a>';"
   ]
  },
  {
   "cell_type": "markdown",
   "id": "3e71be5a",
   "metadata": {},
   "source": [
    "<br>\n",
    "\n",
    "## 使用 Docker-Router 阅读日志"
   ]
  },
  {
   "cell_type": "code",
   "execution_count": null,
   "id": "180c8e43",
   "metadata": {},
   "outputs": [],
   "source": [
    "import requests\n",
    "\n",
    "for entry in requests.get(\"http://docker_router:8070/containers\").json():\n",
    "    if entry.get(\"status\") == 'running':\n",
    "        print(entry.get(\"name\"))"
   ]
  },
  {
   "cell_type": "code",
   "execution_count": null,
   "id": "1d03c7e1",
   "metadata": {},
   "outputs": [],
   "source": [
    "service_name = \"chatbot\"  ## Which microservice to look at\n",
    "# from_idx = -4000           ## - to see truncated output\n",
    "from_idx = 0             ## - to see full output\n",
    "print(requests.get(f\"http://docker_router:8070/containers/{service_name}/logs\").json()[\"logs\"][from_idx:])"
   ]
  }
 ],
 "metadata": {
  "language_info": {
   "name": "python"
  }
 },
 "nbformat": 4,
 "nbformat_minor": 5
}
